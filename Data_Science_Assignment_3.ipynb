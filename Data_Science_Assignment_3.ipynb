{
 "cells": [
  {
   "cell_type": "markdown",
   "id": "410d24bd-3e5f-4fc9-9f23-5915e572e541",
   "metadata": {},
   "source": [
    "<h1>Data Science Assignment 3</h2>"
   ]
  },
  {
   "cell_type": "markdown",
   "id": "45964a8e-de53-4dd2-8b24-4b98ab846cec",
   "metadata": {},
   "source": [
    "<p>Write a program that authenticates a user when the user enters username and password</p>"
   ]
  },
  {
   "cell_type": "code",
   "execution_count": null,
   "id": "2a283f24-ca59-455e-aa47-951c5d2eac5a",
   "metadata": {},
   "outputs": [],
   "source": [
    "#Here a dictionary is used to store the credential details of users having 2 columns, the usernames and passwords with 4 records. \n",
    "credentials_table = {'usernames': ['harryphil', 'samede', 'francisego', 'benadams'], 'passwords': ['harry@1234', 'sam@1234', 'francis@1234', 'ben@1234']} \n",
    "\n",
    "# the user inputs the username, the value entered using input methods are strings.\n",
    "username = input(\"Please enter your username: \")  \n",
    "\n",
    "# the user inputs the password, the value entered using input methods are strings.\n",
    "password = input(\"Please enter your password: \") \n",
    "\n",
    "# if the users enters nothing using the input method, a message is given to the user to enter a value, because the credentials must not be an empty string\n",
    "if (username == '' or password == ''):  \n",
    "    print('Required field!') \n",
    "\n",
    "# if the user enters a username and password, it checks if the credential exist in the table created(records), if yes, it moves to the final authentication                        \n",
    "elif(username in credentials_table['usernames'] and password in credentials_table['passwords']): \n",
    "\n",
    "     # the index of the username and password is used as the unique key to check if they fall in the same record, if yes, it authenticates. and logs you in\n",
    "    if(credentials_table['usernames'].index(username) == credentials_table['passwords'].index(password)): \n",
    "        print(f'You have successfully logged into your portal. \\n\\nYour username is: {username} \\nYour password is: {password}')\n",
    "\n",
    "# if the does not meet the above 2 authentications, it prints the message, saying is either the username or password the is incorrect \n",
    "else:     \n",
    "    print('Wrong username or password, please enter a correct username or password.')"
   ]
  },
  {
   "cell_type": "code",
   "execution_count": null,
   "id": "a5911004-6e12-438f-857f-44004c78084f",
   "metadata": {},
   "outputs": [],
   "source": []
  }
 ],
 "metadata": {
  "kernelspec": {
   "display_name": "Python 3 (ipykernel)",
   "language": "python",
   "name": "python3"
  },
  "language_info": {
   "codemirror_mode": {
    "name": "ipython",
    "version": 3
   },
   "file_extension": ".py",
   "mimetype": "text/x-python",
   "name": "python",
   "nbconvert_exporter": "python",
   "pygments_lexer": "ipython3",
   "version": "3.11.5"
  }
 },
 "nbformat": 4,
 "nbformat_minor": 5
}
